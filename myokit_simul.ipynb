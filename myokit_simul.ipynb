{
 "cells": [
  {
   "cell_type": "code",
   "execution_count": null,
   "metadata": {},
   "outputs": [],
   "source": [
    "import numpy as np\n",
    "import matplotlib.pyplot as plt\n",
    "import pickle\n",
    "\n",
    "params = {'axes.grid': True,\n",
    "          'grid.linestyle': '--',\n",
    "          }\n",
    "plt.rcParams.update(params)\n",
    "\n",
    "import myokit\n",
    "i = myokit.formats.importer('cellml')"
   ]
  },
  {
   "cell_type": "code",
   "execution_count": null,
   "metadata": {},
   "outputs": [],
   "source": [
    "def simulate_w_period(model, period, resample=True):\n",
    "    p=myokit.Protocol()\n",
    "    p.schedule(1, 10, 1, period, 10)\n",
    "    s = myokit.Simulation(model, p)\n",
    "    T = p.characteristic_time()\n",
    "    d = s.run(T)\n",
    "    t=np.array(d.time())\n",
    "    t2 = T-period # time of last impulse\n",
    "    i2 = np.where(t>t2)[0][0] # index of last impulse\n",
    "    tt, V = t[i2:]-t2, np.array(d['membrane.V'][i2:])\n",
    "    if resample:\n",
    "        t_res = np.arange(-100, 900)\n",
    "        V_res = np.interp(t_res, tt, V, left=V.min())\n",
    "        return t_res+100, V_res\n",
    "    else:\n",
    "        return tt, V"
   ]
  },
  {
   "cell_type": "code",
   "execution_count": null,
   "metadata": {},
   "outputs": [],
   "source": [
    "m, _, _ = myokit.load('cell_models/tt_epi.mmt'); name = 'TT-epi'\n",
    "# m, _, _ = myokit.load('cell_models/lr-1991.mmt'); name = 'lr-1991'\n",
    "# m, _, _ = myokit.load('cell_models/tt_endo.mmt'); name = 'TT-endo'\n",
    "# m, _, _ = myokit.load('cell_models/tt_m.mmt'); name = 'TT-m'\n",
    "# m, _, _ = myokit.load('cell_models/br-1977.mmt'); name = 'br-1977'\n",
    "# m, _, _ = myokit.load('cell_models/decker-2009.mmt'); name = 'decker-2009'\n",
    "# m, _, _ = myokit.load('cell_models/heijman-2011.mmt'); name = 'heijman-2011'\n",
    "# m, _, _ = myokit.load('cell_models/ord-2011.mmt'); name = 'ord-2011'\n"
   ]
  },
  {
   "cell_type": "code",
   "execution_count": null,
   "metadata": {},
   "outputs": [],
   "source": [
    "period_range =  np.logspace(np.log2(285), np.log2(10000), 10, base=2)\n",
    "period_range"
   ]
  },
  {
   "cell_type": "code",
   "execution_count": null,
   "metadata": {},
   "outputs": [],
   "source": [
    "period_range = np.array([285, 1000, 3000, 10000]) # test"
   ]
  },
  {
   "cell_type": "code",
   "execution_count": null,
   "metadata": {},
   "outputs": [],
   "source": [
    "period_range = [285, 300, 315, 330, 350, 370, 400, 440, 500, 700, 1000, 1150, 1300, 1500, 1800, 2100, 2500, 3100, 4000, 5000, 6500, 8000, 10000]\n",
    "period_range = np.unique(np.interp(np.arange(len(period_range), step=0.2), np.arange(len(period_range)), period_range).astype(int))\n",
    "plt.plot(period_range, 'ko')\n",
    "plt.yscale('log')"
   ]
  },
  {
   "cell_type": "code",
   "execution_count": null,
   "metadata": {},
   "outputs": [],
   "source": [
    "myo = []\n",
    "for period in period_range:\n",
    "    t, V = simulate_w_period(m, period)\n",
    "    myo.append(V)\n",
    "    plt.plot(t, V, label='p = '+str(period))\n",
    "myo = np.array(myo)\n",
    "\n",
    "plt.legend()\n",
    "plt.xlabel('Time (ms)')\n",
    "plt.ylabel('V (mV)')\n",
    "plt.title(name)\n",
    "plt.xlim(90, 450)\n",
    "# plt.savefig(f'{name}.png', dpi=300)"
   ]
  },
  {
   "cell_type": "code",
   "execution_count": null,
   "metadata": {},
   "outputs": [],
   "source": [
    "myo.shape, period_range.shape"
   ]
  },
  {
   "cell_type": "code",
   "execution_count": null,
   "metadata": {},
   "outputs": [],
   "source": [
    "with open('data/tt_epi.pkl', 'wb') as f:\n",
    "    pickle.dump((myo, period_range), f)"
   ]
  }
 ],
 "metadata": {
  "kernelspec": {
   "display_name": "py313",
   "language": "python",
   "name": "python3"
  },
  "language_info": {
   "codemirror_mode": {
    "name": "ipython",
    "version": 3
   },
   "file_extension": ".py",
   "mimetype": "text/x-python",
   "name": "python",
   "nbconvert_exporter": "python",
   "pygments_lexer": "ipython3",
   "version": "3.13.3"
  }
 },
 "nbformat": 4,
 "nbformat_minor": 2
}
