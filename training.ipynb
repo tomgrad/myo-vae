{
 "cells": [
  {
   "cell_type": "code",
   "execution_count": null,
   "metadata": {},
   "outputs": [],
   "source": [
    "import numpy as np\n",
    "import matplotlib.pyplot as plt\n",
    "import pickle\n",
    "import torch\n",
    "from torch import nn\n",
    "from torch import optim\n",
    "from torch.utils.data import DataLoader, Dataset, TensorDataset\n",
    "from tqdm import trange\n",
    "import torch.nn.functional as F\n",
    "\n",
    "params = {'axes.grid': True,\n",
    "          'grid.linestyle': '--',\n",
    "          }\n",
    "plt.rcParams.update(params)\n",
    "\n",
    "import vae"
   ]
  },
  {
   "cell_type": "code",
   "execution_count": null,
   "metadata": {},
   "outputs": [],
   "source": [
    "device = \"cuda\" if torch.cuda.is_available() else \"cpu\"\n",
    "print(f\"Using {device} device\")"
   ]
  },
  {
   "cell_type": "code",
   "execution_count": null,
   "metadata": {},
   "outputs": [],
   "source": [
    "with open(\"data/tt_epi_ds_long.pkl\", \"rb\") as f:\n",
    "    data = pickle.load(f).astype(np.float32)\n",
    "\n",
    "data = torch.from_numpy(data).unsqueeze(1).to(device)\n",
    "data = F.pad(data, (0, 6), \"constant\", 0)\n",
    "\n",
    "ds = TensorDataset(data)\n",
    "dl = DataLoader(ds, batch_size=256, shuffle=True)"
   ]
  },
  {
   "cell_type": "code",
   "execution_count": null,
   "metadata": {},
   "outputs": [],
   "source": [
    "latent_dim = 16\n",
    "features = 16\n",
    "model = vae.VAE(latent_dim, features).to(device)\n",
    "loss_fn = torch.nn.MSELoss(reduction='sum')\n",
    "opt = torch.optim.Adam(model.parameters(), lr=3e-4)\n",
    "loss_history=[]"
   ]
  },
  {
   "cell_type": "code",
   "execution_count": null,
   "metadata": {},
   "outputs": [],
   "source": [
    "def train_loop(kl_weight=0.0):\n",
    "    total_loss = 0\n",
    "    total_rec_loss = 0\n",
    "    total_kl_loss = 0\n",
    "\n",
    "    for X, in dl:\n",
    "        X = X.to(device)\n",
    "        opt.zero_grad()\n",
    "\n",
    "        Y, mu, logvar = model(X)\n",
    "        reconstruction_loss = loss_fn(Y, X)\n",
    "        kl_divergence = -0.5 * torch.sum(1 + logvar - mu ** 2 - logvar.exp()) # eq. 10\n",
    "        loss = reconstruction_loss + kl_weight*kl_divergence\n",
    "\n",
    "        loss.backward()\n",
    "        opt.step()\n",
    "\n",
    "        total_rec_loss += reconstruction_loss.item() / len(X)\n",
    "        total_kl_loss += kl_divergence.item() / len(X)\n",
    "        total_loss += loss.item() / len(X)\n",
    "\n",
    "    return total_loss, total_rec_loss, total_kl_loss"
   ]
  },
  {
   "cell_type": "code",
   "execution_count": null,
   "metadata": {},
   "outputs": [],
   "source": [
    "epochs = 200\n",
    "model.train()\n",
    "loop = trange(epochs)\n",
    "for epoch in loop:\n",
    "    loss, rec_loss, kl_loss = train_loop(0.2)\n",
    "    loss_history.append(loss)\n",
    "    loop.set_postfix(loss=loss, reconstruction=rec_loss, kl=kl_loss)\n",
    "plt.plot(loss_history[2:])"
   ]
  },
  {
   "cell_type": "code",
   "execution_count": null,
   "metadata": {},
   "outputs": [],
   "source": [
    "# Generacja\n",
    "\n",
    "z = torch.randn(16, latent_dim).to(device)\n",
    "model.eval()\n",
    "\n",
    "with torch.no_grad():\n",
    "    generated = model.dec(z).cpu().detach()\n",
    "\n",
    "for g in generated:\n",
    "    plt.plot(g[0])\n",
    "plt.xlim(0, 220)"
   ]
  },
  {
   "cell_type": "code",
   "execution_count": null,
   "metadata": {},
   "outputs": [],
   "source": [
    "# Rekonstrukcja\n",
    "\n",
    "model.eval()\n",
    "rows, cols = 2, 3\n",
    "signal,  = next(iter(dl))\n",
    "decoded = model(signal.to(device))[0].cpu().detach()\n",
    "\n",
    "fig, axs = plt.subplots(rows, cols, figsize=(10, 5), sharex=True, sharey=True)\n",
    "for i, ax in enumerate(axs.flat):\n",
    "    ax.plot(signal[i, 0].cpu().numpy())\n",
    "    ax.plot(decoded[i, 0].numpy(), '--r')\n",
    "    ax.set_xlim(0, 120)"
   ]
  },
  {
   "cell_type": "code",
   "execution_count": null,
   "metadata": {},
   "outputs": [],
   "source": []
  },
  {
   "cell_type": "code",
   "execution_count": null,
   "metadata": {},
   "outputs": [],
   "source": []
  },
  {
   "cell_type": "markdown",
   "metadata": {},
   "source": [
    "# Zapis i odczyt modelu"
   ]
  },
  {
   "cell_type": "code",
   "execution_count": null,
   "metadata": {},
   "outputs": [],
   "source": [
    "fnames = !ls checkpoints/*.pth\n",
    "fnames"
   ]
  },
  {
   "cell_type": "code",
   "execution_count": null,
   "metadata": {},
   "outputs": [],
   "source": [
    "# load model\n",
    "latent_dim = 16\n",
    "features = 16\n",
    "# fn = f\"vae_z{latent_dim}_f{features}.pth\"\n",
    "fn = fnames[0]\n",
    "model = vae.VAE(latent_dim, features).to(device)\n",
    "model.load_state_dict(torch.load(fn, map_location=device, weights_only=True))"
   ]
  },
  {
   "cell_type": "code",
   "execution_count": null,
   "metadata": {},
   "outputs": [],
   "source": [
    "# from safetensors.torch import save_model\n",
    "# save_model(model, fn.replace(\".pth\", \".safetensors\"))"
   ]
  },
  {
   "cell_type": "code",
   "execution_count": null,
   "metadata": {},
   "outputs": [],
   "source": [
    "# save model\n",
    "# torch.save(model.state_dict(), f\"checkpoints/vae_z{latent_dim}_f{features}.pth\")\n",
    "# torch.save(model.state_dict(), f\"checkpoints/vae_z{latent_dim}_f{features}_long_kl02.pth\")\n",
    "\n",
    "# load model\n",
    "# model = VAE(latent_dim, 16).to(device)\n",
    "# model.load_state_dict(torch.load(f\"vae_{}.pth\"))"
   ]
  }
 ],
 "metadata": {
  "kernelspec": {
   "display_name": "Python 3",
   "language": "python",
   "name": "python3"
  },
  "language_info": {
   "codemirror_mode": {
    "name": "ipython",
    "version": 3
   },
   "file_extension": ".py",
   "mimetype": "text/x-python",
   "name": "python",
   "nbconvert_exporter": "python",
   "pygments_lexer": "ipython3",
   "version": "3.13.3"
  }
 },
 "nbformat": 4,
 "nbformat_minor": 2
}
