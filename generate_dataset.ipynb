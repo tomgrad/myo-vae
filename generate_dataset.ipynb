{
 "cells": [
  {
   "cell_type": "markdown",
   "metadata": {},
   "source": [
    "# Data augmentation"
   ]
  },
  {
   "cell_type": "code",
   "execution_count": null,
   "metadata": {},
   "outputs": [],
   "source": [
    "import numpy as np\n",
    "from scipy import signal\n",
    "import matplotlib.pyplot as plt\n",
    "import pickle\n",
    "\n",
    "params = {'axes.grid': True,\n",
    "          'grid.linestyle': '--',\n",
    "          }\n",
    "plt.rcParams.update(params)"
   ]
  },
  {
   "cell_type": "code",
   "execution_count": null,
   "metadata": {},
   "outputs": [],
   "source": [
    "with open('data/tt_epi.pkl', 'rb') as f:\n",
    "    myo, period_range = pickle.load(f)\n",
    "\n",
    "myo = myo[:, 2::4]\n",
    "myo -= myo.min(axis=1, keepdims=True)\n",
    "myo /= myo.max()\n",
    "myo = np.pad(myo, ((0, 0), (1, 0)), 'constant', constant_values=0)[:,:-1] # move 1 sample to the right"
   ]
  },
  {
   "cell_type": "code",
   "execution_count": null,
   "metadata": {},
   "outputs": [],
   "source": [
    "# Scale the data\n",
    "\n",
    "ds = [myo, myo*1.1, myo*0.9, myo*0.8]\n",
    "\n",
    "ext = myo.copy()\n",
    "ext[:, 26] = 1\n",
    "ext[:, 27] = 0.8\n",
    "ds.append(ext)\n",
    "\n",
    "ext = myo.copy() * 0.9\n",
    "ext[:, 26] = 1\n",
    "ext[:, 27] = 0.8\n",
    "ds.append(ext)\n",
    "\n",
    "ext = myo.copy() * 1.1\n",
    "ext[:, 26] = 1\n",
    "ext[:, 27] = 0.8\n",
    "ds.append(ext)\n",
    "\n",
    "ext = myo.copy() * 0.8\n",
    "ext[:, 26] = 1\n",
    "ext[:, 27] = 0.8\n",
    "ds.append(ext)\n",
    "\n",
    "ds = np.concatenate(ds, axis=0)\n",
    "ds.shape"
   ]
  },
  {
   "cell_type": "code",
   "execution_count": null,
   "metadata": {},
   "outputs": [],
   "source": [
    "for _m in ds[::10]:\n",
    "    plt.plot(_m, 'k', alpha=0.1)\n",
    "# plt.xlim(24, 30)"
   ]
  },
  {
   "cell_type": "code",
   "execution_count": null,
   "metadata": {},
   "outputs": [],
   "source": [
    "with open('data/tt_epi_ds.pkl', 'wb') as f:\n",
    "    pickle.dump(ds, f)"
   ]
  },
  {
   "cell_type": "code",
   "execution_count": null,
   "metadata": {},
   "outputs": [],
   "source": [
    "# Split and interpolate\n",
    "\n",
    "ext = []\n",
    "for yp in ds:\n",
    "    xp = np.linspace(0, 1, len(yp))\n",
    "\n",
    "    cutoff_1 = 28\n",
    "    max_1 = cutoff_1 + np.argmax(yp[cutoff_1:])\n",
    "\n",
    "    for ratio in np.linspace(1.1, 1.5, 10):\n",
    "\n",
    "        x = np.linspace(0, 1, int(len(yp)*ratio))\n",
    "\n",
    "        max_2 = int(max_1 * ratio)\n",
    "\n",
    "        y = np.interp(x, xp, yp, left=0, right=0)\n",
    "\n",
    "        glued = np.concatenate((yp[:max_1], y[max_2:][:len(xp[max_2:])]))\n",
    "        glued = np.pad(glued, (0, 250-len(glued)))\n",
    "        ext.append(glued)\n",
    "ext = np.array(ext)\n",
    "ds = np.concatenate((ds, ext), axis=0)"
   ]
  },
  {
   "cell_type": "code",
   "execution_count": null,
   "metadata": {},
   "outputs": [],
   "source": [
    "with open('data/tt_epi_ds_long.pkl', 'wb') as f:\n",
    "    pickle.dump(ds, f)"
   ]
  }
 ],
 "metadata": {
  "kernelspec": {
   "display_name": "py313",
   "language": "python",
   "name": "python3"
  },
  "language_info": {
   "codemirror_mode": {
    "name": "ipython",
    "version": 3
   },
   "file_extension": ".py",
   "mimetype": "text/x-python",
   "name": "python",
   "nbconvert_exporter": "python",
   "pygments_lexer": "ipython3",
   "version": "3.13.3"
  }
 },
 "nbformat": 4,
 "nbformat_minor": 2
}
